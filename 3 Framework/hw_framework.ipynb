{
 "cells": [
  {
   "cell_type": "markdown",
   "metadata": {
    "colab_type": "text",
    "id": "ucUIoKyJdAxb"
   },
   "source": [
    "# Пишем свой фреймворк"
   ]
  },
  {
   "cell_type": "code",
   "execution_count": 45,
   "metadata": {
    "colab": {},
    "colab_type": "code",
    "id": "o2DkIzfVdAxd"
   },
   "outputs": [],
   "source": [
    "# только numpy, только хардкор\n",
    "import numpy as np"
   ]
  },
  {
   "cell_type": "markdown",
   "metadata": {
    "colab_type": "text",
    "id": "zL1UwDwNdAxi"
   },
   "source": [
    "Мотивация: конечным пользователям вашего фреймворка не хочется думать, как они работают слои внутри. Им просто хочется объявить последовательность элементарных операций над входными данными, а о градиентах и прочем матане пусть позаботится сам фреймворк.\n",
    "\n",
    "**Module** — это абстрактный класс, от которого будут наследоваться слои нашей нейронной сети. Абстрактные классы нужны, чтобы можно было реализовывать не все методы, а только переопределить некоторые. Все в лучших традициях ООП.\n",
    "\n",
    "Модуль — это такая чёрная коробка, которая\n",
    "1. Умеет принимать какие-то входные данные $X$ и возращать какие-то выходные данные $Y$ (`forward`)\n",
    "2. Возможно, имеет какие-то параметры, которые можно изменять, (`parameters`, `grad_parameters`)\n",
    "3. Будучи встроенной в вычислительный граф, умеет по градиенту относительно своих выходных значений вычислять градиент относительно входных данных, а также собственных параметров (`backward`)\n",
    "4. Умеет переключаться в режимы обучения и инференса, если они отличаются (`train`, `eval`)\n",
    "\n",
    "Теперь поподробнее."
   ]
  },
  {
   "cell_type": "markdown",
   "metadata": {
    "colab_type": "text",
    "id": "BPQOD218dAxj"
   },
   "source": [
    "## Входные данные\n",
    "\n",
    "Современные нейросети оптимизируют различными вариантами стохастического градиентного спуска, и мы тоже будем его использовать. Его отличие от обычного в том, что на каждом шаге мы не считаем градиент на всем датасете (это было бы слишком долго), а оцениваем его, усреднив градиенты на его случайно выбранной малой части, которую называют батчем (`batch`). Если батч формировать случайно, и если его размер достаточно большой, то мы можем быстро получить немного шумную, но приемлемую для нас оценку градиента, и не прогонять через сеть все миллионы примеров ради одного маленького шага. Эта интуиция ограничивает размер батча сверху."
   ]
  },
  {
   "cell_type": "markdown",
   "metadata": {
    "colab_type": "text",
    "id": "4--xRXAkdAxk"
   },
   "source": [
    "Математик бы принял время прогона одного примера по всей сети за константу и пришел бы к выводу, что нужно считать по одному примеру и делать каждый раз один шаг, но маленький. Это верное заключение, но в реальности, если увеличить размер батча в $k$ раз, то он будет работать не в $k$ раз дольше, а намного меньше.\n",
    "\n",
    "Самая долгая операция в большинстве нейросетей — это перемножение матриц. Начиная с каких-то размеров для их перемножения имеет использовать алгоритм Штрассена, который работает уже быстрее, чем линейно. Проведём небольшой вычислительный эксперимент:"
   ]
  },
  {
   "cell_type": "code",
   "execution_count": 3,
   "metadata": {
    "colab": {},
    "colab_type": "code",
    "id": "tfA1Fp7kdAxl",
    "outputId": "abfe90d0-7685-4363-a38a-7c13bd0231ae"
   },
   "outputs": [
    {
     "name": "stdout",
     "output_type": "stream",
     "text": [
      "Wall time: 257 ms\n",
      "Wall time: 23 ms\n"
     ]
    }
   ],
   "source": [
    "A = np.random.randn(256, 2000)\n",
    "B = np.random.randn(2000, 800)\n",
    "\n",
    "# помножить каждый вектор-строку на B и сконкатенировать\n",
    "%time C = np.stack(np.dot(A[i].T, B) for i in range(256))\n",
    "\n",
    "# это то же самое, что использовать одно-большое матричное умножение\n",
    "%time C = np.dot(A, B)"
   ]
  },
  {
   "cell_type": "markdown",
   "metadata": {
    "colab_type": "text",
    "id": "Xoj5u-YHdAxp"
   },
   "source": [
    "Такая чисто вычислительная причина ограничивает размер батча снизу. На практике, в большинстве случаев оптимальный размер батча — несколько сотен. В случае с CPU это несколько десятков, потому что выгода от распараллеливания вычислений не такая сильная.\n",
    "\n",
    "Вообще, почти все наши слои будут работать с векторами независимо, но из-за вычилсительных причин мы будем объединять их в матрицы. Вообще, более сложные нейросети работают с тензорами. «Тензор» это, вообще говоря, сложный математический объект, но в DL этот термин используется просто в занчении «многомерный массив». Например, картинки — это четырехмерный тензор: `[batch, channel, x, y]`."
   ]
  },
  {
   "cell_type": "markdown",
   "metadata": {
    "colab_type": "text",
    "id": "yeECJUJvdAxq"
   },
   "source": [
    "### Forward\n",
    "\n",
    "Эта функция просто принимает тензор (`numpy.ndarray`) и возвращает какой-то другой, над которым применили соответствующие операции.\n",
    "\n",
    "Важный нюанс: нам позже для реализации `backward` почти всегда будет нужно сохранять где-нибудь выход `forward` (это создает очень большую нагрузку на память при обучении; [в принципе это можно и не делать](https://arxiv.org/pdf/1604.06174.pdf), но так проще). Условимся сохранять его в `self.output`, сразу после того, как посчитали."
   ]
  },
  {
   "cell_type": "markdown",
   "metadata": {
    "colab_type": "text",
    "id": "s0i3gvWMdAxq"
   },
   "source": [
    "### Параметры\n",
    "\n",
    "Параметр модели — это что-то, что можно поодгонять, чтобы функция потерь стала меньше. Он должен быть доступен оптимизатору, а оптимизатору не обязательно знать, как всё у слоя все внутри работает. Ему нужны просто градиенты — насколько ему нужно подвинуть параметры сети, чтобы стало лучше.\n",
    "\n",
    "Общаться с ним мы будем посредством двух функций: `params` и `grad_params`. Обе возвращают списки из тензоров — значения параметров и их посчитанных градиентов (см. `backward`) соответственно. Питон делает shallow copy, поэтому у оптимизатора так есть доступ на их изменение."
   ]
  },
  {
   "cell_type": "markdown",
   "metadata": {
    "colab_type": "text",
    "id": "jcZHrwjZdAxr"
   },
   "source": [
    "### Backward\n",
    "\n",
    "После того, как мы в вычислительном графе все последовательно посчитали и дошли до функции потерь, нам надо подогнать параметры так, чтобы на тех же данных при повторном прогоне она стала меньше — иными словами, нам надо сделать шаг против градиента функции потерь относительно параметров сети.\n",
    "\n",
    "Посчитать эти градиенты — нетривиальная задача. Мы могли бы рассмотреть каждый параметр по отдельности и как-нибудь посчитать градиент для него. Но это очень долго — параметров в современных сетях бывает по несколько миллионов.\n",
    "\n",
    "Вместо этого мы применим трюк, основанный на формуле для производной сложной функции:\n",
    "\n",
    "$$ f(g(x))' = f'(g(x)) \\cdot g'(x) $$\n",
    "\n",
    "Представьте, что часть сети от параметра до выхода — это всего две последовательно выполненные функции: $g$ и $f$. Тогда, согласно формуле, нам для этого параметра достаточно посчитать и перемножить две величины — $g'(x)$ (производная текущего слоя) и f'(g(x)) (производная относительно выхода текущего слоя).\n",
    "\n",
    "Какие-то другие параметры могли тоже зависеть от производной относительно выхода.  и мы получаем выигрыш за счет того, что считаем её только один раз и запоминаем. Можно сказать, что мы применяем таким образом динамическое программирование на вычислительном графе, чтобы посчитать градиенты относительно всех его параметров.\n",
    "\n",
    "Обратный прогон (`backward`) определяется для каждого слоя и нужен как раз для подсчета градиентов, имея градиент относительно своих выходных значений (аналог $f'(g(x)))$.\n",
    "\n",
    "Он должен делать две вещи:\n",
    "\n",
    "1. Посчитать градиент относительно собственных параметров.\n",
    "2. Посчитать и вернуть градиент относительно своих входных данных.\n",
    "\n",
    "Для лучшего понимания рассмотрите пример с `Linear` и `ReLU`."
   ]
  },
  {
   "cell_type": "markdown",
   "metadata": {
    "colab_type": "text",
    "id": "UQAOtCLddAxs"
   },
   "source": [
    "### train / eval\n",
    "\n",
    "Некоторые слои ведут себя по-разному во время обучечния и предсказания (`inference`). Обычно, это связано с разного вида регуляризацией — например, так ведут себя `BatchNorm` и `Dropout`.\n",
    "\n",
    "По сути, для таких слоев нужно просто написать два разных `forward`-а для обучения и инференса."
   ]
  },
  {
   "cell_type": "code",
   "execution_count": 46,
   "metadata": {
    "colab": {},
    "colab_type": "code",
    "id": "oBVpDMN6dAxs"
   },
   "outputs": [],
   "source": [
    "class Module():\n",
    "    def __init__(self):\n",
    "        self._train = True\n",
    "    \n",
    "    def forward(self, input):\n",
    "        raise NotImplementedError\n",
    "\n",
    "    def backward(self,input, grad_output):\n",
    "        raise NotImplementedError\n",
    "    \n",
    "    def parameters(self):\n",
    "        'Возвращает список собственных параметров.'\n",
    "        return []\n",
    "    \n",
    "    def grad_parameters(self):\n",
    "        'Возвращает список тензоров-градиентов для своих параметров.'\n",
    "        return []\n",
    "    \n",
    "    def train(self):\n",
    "        self._train = True\n",
    "    \n",
    "    def eval(self):\n",
    "        self._train = False"
   ]
  },
  {
   "cell_type": "markdown",
   "metadata": {
    "colab_type": "text",
    "id": "s-137oXtdAxu"
   },
   "source": [
    "Это **абстрактный класс** — от него наследуются другие слои, в которых эти функции будут реализованы."
   ]
  },
  {
   "cell_type": "markdown",
   "metadata": {
    "colab_type": "text",
    "id": "TV9xeNAndAxv"
   },
   "source": [
    "# Sequential"
   ]
  },
  {
   "cell_type": "markdown",
   "metadata": {
    "colab_type": "text",
    "id": "J-mgMM1MdAxw"
   },
   "source": [
    "**Sequential** будет оборачивать список модулей и выполнять их последовательно.\n",
    "\n",
    "Это своего рода контейнер, внутри которого есть какой-то пайплайн.\n",
    "\n",
    "Можно даже засовывать один Sequential внутри другого."
   ]
  },
  {
   "cell_type": "markdown",
   "metadata": {
    "colab_type": "text",
    "id": "qdWwOprDdAxw"
   },
   "source": [
    "Многие не знают, но в питоне почти всегда для итерирования используется не **deep copy**, а **shallow copy**. Это делается для экономии памяти."
   ]
  },
  {
   "cell_type": "code",
   "execution_count": 3,
   "metadata": {
    "colab": {},
    "colab_type": "code",
    "id": "0O968yWrdAxx",
    "outputId": "a2d80f27-6958-4c48-e947-0f905db7cbb9"
   },
   "outputs": [],
   "source": [
    "class Sequential(Module):\n",
    "    def __init__ (self, *layers):\n",
    "        super().__init__()\n",
    "        self.layers = layers\n",
    "\n",
    "    def forward(self, input):\n",
    "        \"\"\"\n",
    "        Прогоните данные последовательно по всем слоям:\n",
    "        \n",
    "            y[0] = layers[0].forward(input)\n",
    "            y[1] = layers[1].forward(y_0)\n",
    "            ...\n",
    "            output = module[n-1].forward(y[n-2])   \n",
    "            \n",
    "        Это должен быть просто небольшой цикл: for layer in layers...\n",
    "        \n",
    "        Хранить выводы ещё раз не надо: они сохраняются внутри слоев после forward.\n",
    "        \"\"\"\n",
    "\n",
    "        for layer in self.layers:\n",
    "            input = layer.forward(input)\n",
    "\n",
    "        self.output = input\n",
    "        return self.output\n",
    "\n",
    "    def backward(self, input, grad_output):\n",
    "        \"\"\"\n",
    "        Backward -- это как forward, только наоборот. (с)\n",
    "        \n",
    "        Предназначение backward:\n",
    "        1. посчитать посчитать градиенты для собственных параметров\n",
    "        2. передать градиент относительно своего входа\n",
    "        \n",
    "        О своих параметрах модули сами позаботятся. Нам же нужно позаботиться о передачи градиента.\n",
    "         \n",
    "            g[n-1] = layers[n-1].backward(y[n-2], grad_output)\n",
    "            g[n-2] = layers[n-2].backward(y[n-3], g[n-1])\n",
    "            ...\n",
    "            g[1] = layers[1].backward(y[0], g[2])   \n",
    "            grad_input = layers[0].backward(input, g[1])\n",
    "        \n",
    "        Тут цикл будет уже чуть посложнее.\n",
    "        \"\"\"\n",
    "        \n",
    "        for i in range(len(self.layers)-1, 0, -1):\n",
    "            grad_output = self.layers[i].backward(self.layers[i-1].output, grad_output)\n",
    "        \n",
    "        grad_input = self.layers[0].backward(input, grad_output)\n",
    "        \n",
    "        return grad_input\n",
    "      \n",
    "    def parameters(self):\n",
    "        'Можно просто сконкатенировать все параметры в один список.'\n",
    "        res = []\n",
    "        for l in self.layers:\n",
    "            res += l.parameters()\n",
    "        return res\n",
    "    \n",
    "    def grad_parameters(self):\n",
    "        'Можно просто сконкатенировать все градиенты в один список.'\n",
    "        res = []\n",
    "        for l in self.layers:\n",
    "            res += l.grad_parameters()\n",
    "        return res\n",
    "    \n",
    "    def train(self):\n",
    "        for layer in self.layers:\n",
    "            layer.train()\n",
    "    \n",
    "    def eval(self):\n",
    "        for layer in self.layers:\n",
    "            layer.eval()"
   ]
  },
  {
   "cell_type": "markdown",
   "metadata": {
    "colab_type": "text",
    "id": "50R6jFr8dAxy"
   },
   "source": [
    "# Слои"
   ]
  },
  {
   "cell_type": "markdown",
   "metadata": {
    "colab_type": "text",
    "id": "guFtN_3FdAxz"
   },
   "source": [
    "Приступим к реализации содержательной части — самих слоев.\n",
    "\n",
    "На вход всех слоев будет подаваться матрица размера `batch_size` $\\times$ `n_features` (см. описание `forward`)."
   ]
  },
  {
   "cell_type": "markdown",
   "metadata": {
    "colab_type": "text",
    "id": "jdBP7xZzdAxz"
   },
   "source": [
    "Начнем с основного: линейный слой, он же fully-conected.\n",
    "\n",
    "$$ Y = X W + b $$\n",
    "\n",
    "Правильнее его называть афинным: после матричного умножения добавляется вектор $b$.\n",
    "\n",
    "`forward` у него трививальный, а `backward` уже сложнее: нужно посчитать градиенты относительно трёх вещей:\n",
    "1. Входных данных. Автор добродушен и спалит вам ответ, а вам нужно его доказать: $\\nabla X = W^T (\\nabla Y)$.\n",
    "2. Матрица весов $W$. Тут нужно подумать, как каждый вес влияет на каждое выходное значение, и выразить ваши мысли линейной алгеброй.\n",
    "3. Вектор $b$. С ним всё будет просто.\n",
    "\n",
    "Не забудьте, что `grad_params` должен иметь такие же размерности, как и соответствующие параметры."
   ]
  },
  {
   "cell_type": "code",
   "execution_count": 7,
   "metadata": {
    "colab": {},
    "colab_type": "code",
    "id": "4uEjKIasdAx3"
   },
   "outputs": [],
   "source": [
    "class Linear(Module):\n",
    "    def __init__(self, dim_in, dim_out):\n",
    "        super().__init__()\n",
    "        # Xavier initialization: инциализируем так,\n",
    "        # что если на вход идет N(0, 1)\n",
    "        # то и на выходе должно идти N(0, 1)\n",
    "        stdv = 1./np.sqrt(dim_in)\n",
    "        self.W = np.random.uniform(-stdv, stdv, size=(dim_in, dim_out))\n",
    "        self.b = np.random.uniform(-stdv, stdv, size=dim_out)\n",
    "        \n",
    "    def forward(self, input):\n",
    "        self.output = np.dot(input, self.W) + self.b\n",
    "        return self.output\n",
    "    \n",
    "    def backward(self, input, grad_output):\n",
    "        self.grad_b = np.mean(grad_output, axis=0)\n",
    "        \n",
    "        #     in_dim x batch_size\n",
    "        self.grad_W = np.dot(input.T, grad_output)\n",
    "        #                 batch_size x out_dim\n",
    "        grad_input = np.dot(grad_output, self.W.T)\n",
    "        \n",
    "        return grad_input\n",
    "    \n",
    "    def parameters(self):\n",
    "        return [self.W, self.b]\n",
    "    \n",
    "    def grad_parameters(self):\n",
    "        return [self.grad_W, self.grad_b]"
   ]
  },
  {
   "cell_type": "markdown",
   "metadata": {
    "colab_type": "text",
    "id": "-jLyEmMEdAx7"
   },
   "source": [
    "## Функции активации"
   ]
  },
  {
   "cell_type": "markdown",
   "metadata": {
    "colab_type": "text",
    "id": "H0ci6studAx7"
   },
   "source": [
    "**ReLU** — одна из самых простых функций активации:\n",
    "\n",
    "$$\n",
    "ReLU(x)=\n",
    "\\begin{cases}\n",
    "x, & x > 0\\\\\n",
    "0, & x \\leq 0\\\\\n",
    "\\end{cases}\n",
    "$$\n",
    "\n",
    "`ReLU` это очень простой слой, поэтому автору не жалко её реализовать его за вас:"
   ]
  },
  {
   "cell_type": "code",
   "execution_count": 8,
   "metadata": {
    "colab": {},
    "colab_type": "code",
    "id": "HrayJEANdAx7"
   },
   "outputs": [],
   "source": [
    "class ReLU(Module):\n",
    "    def __init__(self):\n",
    "         super().__init__()\n",
    "    \n",
    "    def forward(self, input):\n",
    "        self.output = np.maximum(input, 0)\n",
    "        return self.output\n",
    "    \n",
    "    def backward(self, input, grad_output):\n",
    "        grad_input = grad_output * (input > 0)\n",
    "        return grad_input"
   ]
  },
  {
   "cell_type": "markdown",
   "metadata": {
    "colab_type": "text",
    "id": "xUTaMFaWdAx8"
   },
   "source": [
    "У ReLU есть проблема — у него бесполезная нулевая производная при $x < 0$.\n",
    "\n",
    "[**Leaky Rectified Linear Unit**](http://en.wikipedia.org/wiki%2FRectifier_%28neural_networks%29%23Leaky_ReLUs) — это его модифицированная версия, имеющая в отрицательных координатах не нулевой градиент, а просто помноженный на маленькую константу `slope`.\n",
    "\n",
    "$$\n",
    "LeakyReLU_k(x)=\n",
    "\\begin{cases}\n",
    "x, & x > 0\\\\\n",
    "kx, & x \\leq 0\\\\\n",
    "\\end{cases}\n",
    "$$\n",
    "\n",
    "При `slope` = 0 он превращается в обычный `ReLU`. "
   ]
  },
  {
   "cell_type": "code",
   "execution_count": 9,
   "metadata": {
    "colab": {},
    "colab_type": "code",
    "id": "OMWPFjxldAx8"
   },
   "outputs": [],
   "source": [
    "class LeakyReLU(Module):\n",
    "    def __init__(self, slope=0.03):\n",
    "        super().__init__()\n",
    "            \n",
    "        self.slope = slope\n",
    "        \n",
    "    def forward(self, input):\n",
    "        self.output = np.maximum(input, input*self.slope)\n",
    "        return self.output\n",
    "    \n",
    "    def backward(self, input, grad_output):\n",
    "        grad_input = ((input > 0) + self.slope * (input < 0)) * grad_output\n",
    "        return grad_input"
   ]
  },
  {
   "cell_type": "markdown",
   "metadata": {
    "colab_type": "text",
    "id": "EorDi-TMdAx9"
   },
   "source": [
    "**Сигмоида** определяется формулой $\\sigma(x) = \\frac{1}{1+e^{-x}}$.\n",
    "\n",
    "<img width='500px' src='https://upload.wikimedia.org/wikipedia/commons/thumb/5/53/Sigmoid-function-2.svg/2000px-Sigmoid-function-2.svg.png'>\n",
    "\n",
    "Когда-то она была самой часто используемой функции активации, потому что имела логичную вероятностную интерпретацию (вероятность наличия какой-то фичи), но потом перестали, потому что на очень больших или маленьких значениях её производные почти нулевые (см. проблема затухающего градиента).\n",
    "\n",
    "Также используют [гипреболический тангенс](https://ru.wikipedia.org/wiki/%D0%93%D0%B8%D0%BF%D0%B5%D1%80%D0%B1%D0%BE%D0%BB%D0%B8%D1%87%D0%B5%D1%81%D0%BA%D0%B8%D0%B5_%D1%84%D1%83%D0%BD%D0%BA%D1%86%D0%B8%D0%B8), который на самом деле просто сигмоида, отнормированная так, чтобы значения были в $[-1, 1]$: $tanh(x) = 2 \\sigma(x) - 1$. Мы его отдельно реализовывать не будем.\n",
    "\n",
    "Давайте посчитаем её производную:\n",
    "\n",
    "$$\n",
    "\\begin{align}\n",
    "\\sigma'(x) &= (\\frac{1}{1+e^{-x}})'\n",
    "\\\\         &= \\frac{e^{-x}}{(1+e^{-x})^2}\n",
    "\\\\         &= \\frac{1+e^{-x}-1}{(1+e^{-x})^2}\n",
    "\\\\         &= \\frac{1+e^{-x}}{(1+e^{-x})^2} - \\frac{1}{(1+e^{-x})^2}\n",
    "\\\\         &= \\frac{1}{1+e^{-x}} - \\frac{1}{(1+e^{-x})^2}\n",
    "\\\\         &= \\sigma(x) - \\sigma(x)^2\n",
    "\\\\         &= \\sigma(x)(1 - \\sigma(x))\n",
    "\\end{align}\n",
    "$$"
   ]
  },
  {
   "cell_type": "code",
   "execution_count": null,
   "metadata": {
    "colab": {},
    "colab_type": "code",
    "id": "LUag-tekdAx-"
   },
   "outputs": [],
   "source": [
    "class Sigmoid(Module):\n",
    "    def __init__(self):\n",
    "        super().__init__()\n",
    "\n",
    "    def forward(self, input):\n",
    "        self.output = 1 / (1 + np.exp(-input))\n",
    "        return self.output\n",
    "    \n",
    "    def backward(self, input, grad_output):\n",
    "        grad_input = grad_output * (self.output * (1 - self.output))\n",
    "        return grad_input"
   ]
  },
  {
   "cell_type": "markdown",
   "metadata": {
    "colab_type": "text",
    "id": "kBhjcx0XdAx_"
   },
   "source": [
    "**Софтмакс** определяется так:\n",
    "\n",
    "$$ \\sigma(x)_k = \\frac{e^{x_k}}{\\sum_{i=1}^n e^{x_i} }$$\n",
    "\n",
    "Можно заметить, что сигмоида — это частный случай софтмакса. Его можно интерпретировать как вероятностное распределение: его выходы положительны и суммируются в единицу. Поэтому его используют как последний слой для классификации.\n",
    "\n",
    "Софтмакс — самый сложный с точки зрения написания `backward`. Как и все остальное, оно считается в 5 строчек кода, но [вывести их трудно](https://deepnotes.io/softmax-crossentropy). "
   ]
  },
  {
   "cell_type": "markdown",
   "metadata": {},
   "source": [
    "Сейчас я распишу как получил градиенты для слоя софтмакса"
   ]
  },
  {
   "cell_type": "code",
   "execution_count": 28,
   "metadata": {},
   "outputs": [],
   "source": [
    "import matplotlib.pyplot as plt\n",
    "from PIL import Image"
   ]
  },
  {
   "cell_type": "code",
   "execution_count": 34,
   "metadata": {},
   "outputs": [
    {
     "data": {
      "image/png": "[encoded data removed]",
      "text/plain": [
       "<Figure size 432x288 with 1 Axes>"
      ]
     },
     "metadata": {
      "needs_background": "light"
     },
     "output_type": "display_data"
    },
    {
     "data": {
      "image/png": "[encoded data removed]",
      "text/plain": [
       "<Figure size 432x288 with 1 Axes>"
      ]
     },
     "metadata": {
      "needs_background": "light"
     },
     "output_type": "display_data"
    },
    {
     "data": {
      "image/png": "[encoded data removed]",
      "text/plain": [
       "<Figure size 432x288 with 1 Axes>"
      ]
     },
     "metadata": {
      "needs_background": "light"
     },
     "output_type": "display_data"
    }
   ],
   "source": [
    "for i in range(1, 4):\n",
    "    plt.axis('off')\n",
    "    plt.imshow(Image.open(f'{i}.png'))\n",
    "    plt.show()"
   ]
  },
  {
   "cell_type": "code",
   "execution_count": 35,
   "metadata": {},
   "outputs": [
    {
     "data": {
      "text/plain": [
       "array([[0.04177257, 0.11354962, 0.0056533 , 0.83902451],\n",
       "       [0.04177257, 0.11354962, 0.0056533 , 0.83902451]])"
      ]
     },
     "execution_count": 35,
     "metadata": {},
     "output_type": "execute_result"
    }
   ],
   "source": [
    "a = np.array([[1, 2, -1, 4], [1, 2, -1, 4]]) # простой пример\n",
    "a = a - np.max(a, axis=1)[:, np.newaxis]\n",
    "softmax_output = np.exp(a)/np.sum(np.exp(a), axis=1)[:, np.newaxis]\n",
    "softmax_output"
   ]
  },
  {
   "cell_type": "code",
   "execution_count": 7,
   "metadata": {},
   "outputs": [
    {
     "data": {
      "text/plain": [
       "array([[[0.04177257, 0.04177257, 0.04177257, 0.04177257],\n",
       "        [0.11354962, 0.11354962, 0.11354962, 0.11354962],\n",
       "        [0.0056533 , 0.0056533 , 0.0056533 , 0.0056533 ],\n",
       "        [0.83902451, 0.83902451, 0.83902451, 0.83902451]],\n",
       "\n",
       "       [[0.04177257, 0.04177257, 0.04177257, 0.04177257],\n",
       "        [0.11354962, 0.11354962, 0.11354962, 0.11354962],\n",
       "        [0.0056533 , 0.0056533 , 0.0056533 , 0.0056533 ],\n",
       "        [0.83902451, 0.83902451, 0.83902451, 0.83902451]]])"
      ]
     },
     "execution_count": 7,
     "metadata": {},
     "output_type": "execute_result"
    }
   ],
   "source": [
    "stacked_probabilities1 = np.repeat(softmax_output[:, :, np.newaxis], softmax_output.shape[1], axis=2)\n",
    "stacked_probabilities1"
   ]
  },
  {
   "cell_type": "code",
   "execution_count": 8,
   "metadata": {},
   "outputs": [
    {
     "data": {
      "text/plain": [
       "array([[[0.04177257, 0.11354962, 0.0056533 , 0.83902451],\n",
       "        [0.04177257, 0.11354962, 0.0056533 , 0.83902451],\n",
       "        [0.04177257, 0.11354962, 0.0056533 , 0.83902451],\n",
       "        [0.04177257, 0.11354962, 0.0056533 , 0.83902451]],\n",
       "\n",
       "       [[0.04177257, 0.11354962, 0.0056533 , 0.83902451],\n",
       "        [0.04177257, 0.11354962, 0.0056533 , 0.83902451],\n",
       "        [0.04177257, 0.11354962, 0.0056533 , 0.83902451],\n",
       "        [0.04177257, 0.11354962, 0.0056533 , 0.83902451]]])"
      ]
     },
     "execution_count": 8,
     "metadata": {},
     "output_type": "execute_result"
    }
   ],
   "source": [
    "stacked_probabilities2 = np.transpose(stacked_probabilities1, axes=(0, 2, 1))\n",
    "stacked_probabilities2"
   ]
  },
  {
   "cell_type": "code",
   "execution_count": 9,
   "metadata": {},
   "outputs": [
    {
     "data": {
      "text/plain": [
       "array([[ 0., -1., -1., -1.],\n",
       "       [-1.,  0., -1., -1.],\n",
       "       [-1., -1.,  0., -1.],\n",
       "       [-1., -1., -1.,  0.]])"
      ]
     },
     "execution_count": 9,
     "metadata": {},
     "output_type": "execute_result"
    }
   ],
   "source": [
    "np.eye(4) - 1"
   ]
  },
  {
   "cell_type": "markdown",
   "metadata": {},
   "source": [
    "Получим градиенты для элементов матрицы, не лежащих на главной диагонали:"
   ]
  },
  {
   "cell_type": "code",
   "execution_count": 17,
   "metadata": {},
   "outputs": [
    {
     "data": {
      "text/plain": [
       "array([[[ 0.        , -0.00474326, -0.00023615, -0.03504821],\n",
       "        [-0.00474326,  0.        , -0.00064193, -0.09527091],\n",
       "        [-0.00023615, -0.00064193,  0.        , -0.00474326],\n",
       "        [-0.03504821, -0.09527091, -0.00474326,  0.        ]],\n",
       "\n",
       "       [[ 0.        , -0.00474326, -0.00023615, -0.03504821],\n",
       "        [-0.00474326,  0.        , -0.00064193, -0.09527091],\n",
       "        [-0.00023615, -0.00064193,  0.        , -0.00474326],\n",
       "        [-0.03504821, -0.09527091, -0.00474326,  0.        ]]])"
      ]
     },
     "execution_count": 17,
     "metadata": {},
     "output_type": "execute_result"
    }
   ],
   "source": [
    "nondiagonal_gradients = stacked_probabilities1 * stacked_probabilities2 * (np.eye(4) - 1)\n",
    "nondiagonal_gradients"
   ]
  },
  {
   "cell_type": "code",
   "execution_count": 12,
   "metadata": {},
   "outputs": [
    {
     "data": {
      "text/plain": [
       "array([[[1., 0., 0., 0.],\n",
       "        [0., 1., 0., 0.],\n",
       "        [0., 0., 1., 0.],\n",
       "        [0., 0., 0., 1.]],\n",
       "\n",
       "       [[1., 0., 0., 0.],\n",
       "        [0., 1., 0., 0.],\n",
       "        [0., 0., 1., 0.],\n",
       "        [0., 0., 0., 1.]]])"
      ]
     },
     "execution_count": 12,
     "metadata": {},
     "output_type": "execute_result"
    }
   ],
   "source": [
    "np.repeat(np.eye(4)[np.newaxis, :, :], 2, axis=0) "
   ]
  },
  {
   "cell_type": "markdown",
   "metadata": {},
   "source": [
    "Получим градиенты для элементов матрицы, лежащих на главной диагонали:"
   ]
  },
  {
   "cell_type": "code",
   "execution_count": 16,
   "metadata": {},
   "outputs": [
    {
     "data": {
      "text/plain": [
       "array([[[0.04002762, 0.        , 0.        , 0.        ],\n",
       "        [0.        , 0.1006561 , 0.        , 0.        ],\n",
       "        [0.        , 0.        , 0.00562134, 0.        ],\n",
       "        [0.        , 0.        , 0.        , 0.13506238]],\n",
       "\n",
       "       [[0.04002762, 0.        , 0.        , 0.        ],\n",
       "        [0.        , 0.1006561 , 0.        , 0.        ],\n",
       "        [0.        , 0.        , 0.00562134, 0.        ],\n",
       "        [0.        , 0.        , 0.        , 0.13506238]]])"
      ]
     },
     "execution_count": 16,
     "metadata": {},
     "output_type": "execute_result"
    }
   ],
   "source": [
    "diagonal_gradients = np.repeat(np.eye(4)[np.newaxis, :, :], 2, axis=0) * (softmax_output * (1-softmax_output))[:, np.newaxis, :]\n",
    "diagonal_gradients"
   ]
  },
  {
   "cell_type": "code",
   "execution_count": 18,
   "metadata": {},
   "outputs": [
    {
     "data": {
      "text/plain": [
       "array([[[ 0.04002762, -0.00474326, -0.00023615, -0.03504821],\n",
       "        [-0.00474326,  0.1006561 , -0.00064193, -0.09527091],\n",
       "        [-0.00023615, -0.00064193,  0.00562134, -0.00474326],\n",
       "        [-0.03504821, -0.09527091, -0.00474326,  0.13506238]],\n",
       "\n",
       "       [[ 0.04002762, -0.00474326, -0.00023615, -0.03504821],\n",
       "        [-0.00474326,  0.1006561 , -0.00064193, -0.09527091],\n",
       "        [-0.00023615, -0.00064193,  0.00562134, -0.00474326],\n",
       "        [-0.03504821, -0.09527091, -0.00474326,  0.13506238]]])"
      ]
     },
     "execution_count": 18,
     "metadata": {},
     "output_type": "execute_result"
    }
   ],
   "source": [
    "jacobi = diagonal_gradients + nondiagonal_gradients\n",
    "jacobi"
   ]
  },
  {
   "cell_type": "code",
   "execution_count": 84,
   "metadata": {
    "colab": {},
    "colab_type": "code",
    "id": "QS-6BIe6dAx_"
   },
   "outputs": [],
   "source": [
    "class SoftMax(Module):\n",
    "    def __init__(self):\n",
    "         super().__init__()\n",
    "    \n",
    "    def forward(self, input):\n",
    "        input -= np.max(input, axis=1)[:, np.newaxis]\n",
    "        self.output = np.exp(input)/np.sum(np.exp(input), axis=1)[:, np.newaxis]\n",
    "        return self.output\n",
    "    \n",
    "    def backward(self, input, grad_output):\n",
    "        stacked_probabilities1 = np.repeat(self.output[:, :, np.newaxis], input.shape[1], axis=2)\n",
    "        stacked_probabilities2 = np.transpose(stacked_probabilities1, axes=(0, 2, 1))\n",
    "        diagonal_gradients = np.repeat(np.eye(input.shape[-1])[np.newaxis, :, :], input.shape[0], axis=0) * (self.output * (1-self.output))[:, np.newaxis, :]\n",
    "        nondiagonal_gradients = stacked_probabilities1 * stacked_probabilities2 * ((np.eye(input.shape[-1]) - 1))\n",
    "        Jacobi_matriсes = diagonal_gradients + nondiagonal_gradients # матрица частных производных\n",
    "        grad_input = (grad_output[:, np.newaxis, :] @ Jacobi_matriсes)[:, 0, :]\n",
    "        return grad_input"
   ]
  },
  {
   "cell_type": "markdown",
   "metadata": {
    "colab_type": "text",
    "id": "h-5W8O3zdAyA"
   },
   "source": [
    "## Регуляризация"
   ]
  },
  {
   "cell_type": "markdown",
   "metadata": {
    "colab_type": "text",
    "id": "V5bmlefZdAyA"
   },
   "source": [
    "Самый популярный регуляризатор в нейросетях — [**дропаут**](https://www.cs.toronto.edu/~hinton/absps/JMLRdropout.pdf). Идея простая: просто помножим поэлементно входные данные на случайную бинарную маску того же размера, как и сами данные. Сгенерировать маску можно через `np.random.binomial`.\n",
    "\n",
    "Дропаута обычно хватает как единственного регуляризатора. Если вы заметите, что сеть оверфитится — просто добавьте его побольше.\n",
    "\n",
    "**У дропаута разное поведение в режимах `train` и `eval`**. При `eval` он не должен делать ничего, а в `train` вместо применения маски нужно ещё домножить вход на $p$, чтобы скомпенсировать дропаут при обучении (так математическое ожидание значений будет такое же, как на трейне)."
   ]
  },
  {
   "cell_type": "code",
   "execution_count": 66,
   "metadata": {
    "colab": {},
    "colab_type": "code",
    "id": "9nZsHZUDdAyA"
   },
   "outputs": [],
   "source": [
    "class Dropout(Module):\n",
    "    def __init__(self, p=0.5):\n",
    "        super().__init__()\n",
    "        \n",
    "        self.p = p\n",
    "        self.mask = None\n",
    "        \n",
    "    def forward(self, input):\n",
    "        if self._train:\n",
    "            self.mask = np.random.random(input.shape) > self.p\n",
    "            self.output = input * self.mask\n",
    "        else:\n",
    "            self.output = input * (1 - self.p)\n",
    "        return self.output\n",
    "    \n",
    "    def backward(self, input, grad_output):\n",
    "        if self._train:\n",
    "            grad_input = grad_output * self.mask\n",
    "        else:\n",
    "            grad_input = grad_output * (1 - self.p)\n",
    "        return grad_input"
   ]
  },
  {
   "cell_type": "markdown",
   "metadata": {
    "colab_type": "text",
    "id": "r0YNMOOIdAyB"
   },
   "source": [
    "`BatchNorm` -- относительно современный слой, сильно улучшающий сходимость. Всё, что он делает -- это нормирует свои входные значения так, что на выходе получаются значения со средним 0 и дисперсией 1.\n",
    "\n",
    "<img width='300px' src='https://wiseodd.github.io/img/2016-07-04-batchnorm/00.png'>\n",
    "\n",
    "Почитать про вывод градиента для него можно тут: https://wiseodd.github.io/techblog/2016/07/04/batchnorm/\n",
    "\n",
    "BatchNorm тоже по-разному ведёт себя при обучении и инференсе. Во время инференса он использует в качестве оценки среднего и дисперсии свои экспоненциально усреднённые исторические значения. Это связано с тем, что батч может быть маленьким, и оценки среднего и дисперсии будут неточными (при батче размера 1 дисперсия вообще будет нулевая, и нам в алгоритме нужно будет делить на ноль)."
   ]
  },
  {
   "cell_type": "code",
   "execution_count": 53,
   "metadata": {
    "colab": {},
    "colab_type": "code",
    "id": "Bkl3--6RdAyB"
   },
   "outputs": [],
   "source": [
    "class BatchNorm(Module):\n",
    "    def __init__(self, xshape, eps=1e-5):\n",
    "        super().__init__()\n",
    "        self.eps = eps\n",
    "        self.gamma = np.ones(xshape)\n",
    "        self.beta = np.zeros(xshape)\n",
    "        self.mu_global = 0\n",
    "        self.variance_global = 1\n",
    "        self.inference_coef1 = None\n",
    "        self.inference_coef2 = None\n",
    "    \n",
    "    def forward(self, input):\n",
    "        if self._train:\n",
    "            self.mu = np.mean(input, axis=0)\n",
    "            self.variance = np.mean((self.mu - input)**2, axis=0)\n",
    "            self.input = input\n",
    "            self.x_hat = (input - self.mu)/np.sqrt(self.variance+self.eps)\n",
    "            self.output = self.gamma*self.x_hat + self.beta\n",
    "        else:\n",
    "            if self.inference_coef1 is None: # посчитаем заранее, чтобы во время инференса быстро давать ответ\n",
    "                self.inference_coef1 = self.gamma/np.sqrt(self.variance_global+self.eps) \n",
    "                self.inference_coef2 = self.beta - self.gamma*self.mu_global/np.sqrt(self.variance_global+self.eps)\n",
    "            self.output = input * self.inference_coef1 + self.inference_coef2\n",
    "        return self.output\n",
    "    \n",
    "    def backward(self, input, grad_output):\n",
    "        if self._train:\n",
    "            batch_size=input.shape[0]\n",
    "            inversed_variance = 1 / np.sqrt(self.variance + self.eps) \n",
    "            self.grad_beta = np.sum(grad_output, axis=0)\n",
    "            self.grad_gamma = grad_output*self.x_hat\n",
    "            grad_input_hat = grad_output * self.gamma\n",
    "            grad_variance =  -0.5 * (inversed_variance ** 3) * np.sum(grad_input_hat * (self.input-self.mu) , axis=0) \n",
    "            grad_mu = (-2 * grad_variance / batch_size) * np.sum(self.input-self.mu , axis=0) + np.sum(grad_input_hat*(-inversed_variance), axis=0)\n",
    "            grad_input = (grad_mu / batch_size) + grad_variance*(2/batch_size)*(self.input-self.mu) + grad_input_hat*inversed_variance\n",
    "            self.mu_global = self.mu_global*0.99 + 0.01*self.mu # exponential moving average\n",
    "            self.variance_global = self.variance_global*0.99 + 0.01*self.variance\n",
    "        else:\n",
    "            pass\n",
    "        return grad_input\n",
    "\n",
    "    def parameters(self):\n",
    "        return [self.gamma, self.beta]\n",
    "\n",
    "    def grad_parameters(self):\n",
    "        return [self.grad_gamma, self.grad_beta]"
   ]
  },
  {
   "cell_type": "markdown",
   "metadata": {
    "colab_type": "text",
    "id": "IO_okIAhdAyC"
   },
   "source": [
    "## Критерии"
   ]
  },
  {
   "cell_type": "markdown",
   "metadata": {
    "colab_type": "text",
    "id": "5jZL4UjNdAyC"
   },
   "source": [
    "Критерии — это специальные функции, которые меряют качество, имея реальные данные и предсказанные. Все критерии возвращают скаляр — одно число, усреднённое значение метрики по всему батчу.\n",
    "\n",
    "По сути это тоже модули, но мы всё равно создадим для них отдельный класс, потому что у них нет `train` / `eval`, а `backward` не требует `grad_output` — эта вершина и так конечная в вычислительном графе. Также нам не понадобится сохранять для них `output`."
   ]
  },
  {
   "cell_type": "code",
   "execution_count": 51,
   "metadata": {
    "colab": {},
    "colab_type": "code",
    "id": "COX7VXtUdAyC"
   },
   "outputs": [],
   "source": [
    "class Criterion():        \n",
    "    def forward(self, input, target):\n",
    "        raise NotImplementedError\n",
    "\n",
    "    def backward(self, input, target):\n",
    "        raise NotImplementedError"
   ]
  },
  {
   "cell_type": "markdown",
   "metadata": {
    "colab_type": "text",
    "id": "YF1c6q1adAyD"
   },
   "source": [
    "В качестве примера реализуем среднюю квадратичную ошибку (`MSE`).\n",
    "\n",
    "Обратите внимание, что в критериях мы делим итоговое число на размер батча — мы не хотим, чтобы функция потерь зависела от количества примеров."
   ]
  },
  {
   "cell_type": "code",
   "execution_count": 68,
   "metadata": {
    "colab": {},
    "colab_type": "code",
    "id": "RLZXaG3OdAyD"
   },
   "outputs": [],
   "source": [
    "class MSE(Criterion):\n",
    "    def forward(self, input, target):\n",
    "        batch_size = input.shape[0]\n",
    "        self.output = np.sum(np.power(input - target, 2)) / batch_size\n",
    "        return self.output\n",
    " \n",
    "    def backward(self, input, target):\n",
    "        self.grad_output  = (input - target) * 2 / input.shape[0]\n",
    "        return self.grad_output"
   ]
  },
  {
   "cell_type": "markdown",
   "metadata": {
    "colab_type": "text",
    "id": "tBCAlI7CdAyE"
   },
   "source": [
    "Ваша задача посложнее: вам нужно реализовать кроссэнтропию — это стандартная функция потерь для классификации. Тут можно почитать про вывод её градиентов, а также софтмакса: https://deepnotes.io/softmax-crossentropy\n",
    "\n",
    "Напоминаем интуицию за принципом максимального правдоподобия: мы максимизируем произведение предсказанных вероятностей реально случившихся событий $ L = \\prod p_i $.\n",
    "\n",
    "Произведение оптимизировать не очень удобно, и поэтому мы возьмём логарифм (любой, ведь все логарифмы отличаются в константу раз) и будем вместо него максимизировать сумму:\n",
    "\n",
    "$$ \\log L = \\log \\prod p_i = \\sum \\log p_i $$\n",
    "\n",
    "Эту штуку называют кроссэнтропией. Такое название пошло из теории информации, но нам пока знать это не надо.\n",
    "\n",
    "Для удобноства вместо чисел — от 0 до 9 — будем использовать вектора размера 10, где будет стоять единица в нужном месте (такое кодирование называется one-hot)."
   ]
  },
  {
   "cell_type": "code",
   "execution_count": 52,
   "metadata": {
    "colab": {},
    "colab_type": "code",
    "id": "3ckg7SdddAyF"
   },
   "outputs": [],
   "source": [
    "class CrossEntropy(Criterion):\n",
    "    def __init__(self):\n",
    "        super().__init__()\n",
    "        \n",
    "    def forward(self, input, target): \n",
    "        input -= np.max(input, axis=1)[:, np.newaxis]\n",
    "        self.probs = np.exp(input)/np.sum(np.exp(input), axis=1)[:, np.newaxis]\n",
    "        return np.mean(-np.sum(target*np.log(self.probs), axis=1))\n",
    "\n",
    "    def backward(self, input, target):\n",
    "        return self.probs - target"
   ]
  },
  {
   "cell_type": "code",
   "execution_count": null,
   "metadata": {},
   "outputs": [],
   "source": [
    "class NegativeLikelihood(Criterion):\n",
    "    def __init__(self):\n",
    "        super().__init__()\n",
    "        \n",
    "    def forward(self, input, target): \n",
    "        return np.mean(-np.sum(target*np.log(input), axis=1))\n",
    "\n",
    "    def backward(self, input, target):\n",
    "        return input - target"
   ]
  }
 ],
 "metadata": {
  "colab": {
   "collapsed_sections": [],
   "name": "hw_framework.ipynb",
   "provenance": []
  },
  "interpreter": {
   "hash": "5179d32cf6ec497baf3f8a3ef987cc77c5d2dc691fdde20a56316522f61a7323"
  },
  "kernelspec": {
   "display_name": "Python 3",
   "language": "python",
   "name": "python3"
  },
  "language_info": {
   "codemirror_mode": {
    "name": "ipython",
    "version": 3
   },
   "file_extension": ".py",
   "mimetype": "text/x-python",
   "name": "python",
   "nbconvert_exporter": "python",
   "pygments_lexer": "ipython3",
   "version": "3.8.8"
  }
 },
 "nbformat": 4,
 "nbformat_minor": 1
}
