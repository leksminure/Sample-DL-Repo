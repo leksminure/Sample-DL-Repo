{
 "cells": [
  {
   "cell_type": "markdown",
   "metadata": {
    "colab_type": "text",
    "id": "mo4MwTZtocWC"
   },
   "source": [
    "# Backprop своими руками"
   ]
  },
  {
   "cell_type": "markdown",
   "metadata": {
    "colab_type": "text",
    "id": "ZTn-EUeLocWG"
   },
   "source": [
    "Материалы:\n",
    "\n",
    "* [Andrew Karpahy: yes, you should understand backprop](https://medium.com/@karpathy/yes-you-should-understand-backprop-e2f06eab496b)\n",
    "* [Stanford CS231n](http://cs231n.stanford.edu/)\n",
    "* [Deep Learning](http://sereja.me/f/deep_learning_goodfellow.pdf) — с 204 страницы и до прозрения\n",
    "* [Xavier, Bengio](http://proceedings.mlr.press/v9/glorot10a/glorot10a.pdf)"
   ]
  },
  {
   "cell_type": "markdown",
   "metadata": {
    "colab_type": "text",
    "id": "vr9onIFLocWI"
   },
   "source": [
    "<img width='800px' src='https://cdn-images-1.medium.com/max/1600/1*q1M7LGiDTirwU-4LcFq7_Q.png'>"
   ]
  },
  {
   "cell_type": "markdown",
   "metadata": {
    "colab_type": "text",
    "id": "0pNAiOscocWJ"
   },
   "source": [
    "Иногда сети пишут на чистом C++, причём код для обучения и инференса (реального прогона в продакшне) — отдельно. Так делают, когда нужен очень быстрый отклик и высокая производительность, но это очень трудоемко.\n",
    "\n",
    "Большинство людей не усложняют себе жизнь и просто используют фреймворки — с ними можно просто почти декларативно описать, какие операции хотите сделать с данными, а он потом сам построит сеть и подгонит её под данные.\n",
    "\n",
    "Ваше задание — реализовать свой небольшой фреймворк глубокого обучения на чистом `numpy`. Основное время у вас должно уйти на вывод формул для градиентов, анализ поведения самых часто используемых слоев в современных нейросетях и прочий матан. Хотя бы один раз в жизни это надо сделать, а уже потом пользоваться готовыми абстракциями."
   ]
  },
  {
   "cell_type": "markdown",
   "metadata": {
    "colab_type": "text",
    "id": "boLW-DeTocWL"
   },
   "source": [
    "Предполагаемый порядок выполнения:\n",
    "* Поймите на высоком уровне, как работает алгоритм backpropagation\n",
    "* Изучите пример с логиситической регрессией, чтобы понять, что от вас в итоге хотят\n",
    "* Изучите код `Module`\n",
    "* `Sequential`\n",
    "* `Linear`\n",
    "* `SoftMax`\n",
    "* `CrossEntropy`\n",
    "* Протестируйте их на логситической регрессии\n",
    "* Напишите код для решения MNIST\n",
    "* Дописывайте остальные слои, пока не получите на нём 97%"
   ]
  },
  {
   "cell_type": "markdown",
   "metadata": {
    "colab_type": "text",
    "id": "sPciq6WzocWN"
   },
   "source": [
    "Оценивание (суммарно до 20 баллов):\n",
    "* 5 баллов -- что-то хоть как-то обучается, MNIST на валидации >90%\n",
    "* 2 балла -- MNIST на 95%, дальше по одному баллу за 96%, 97% и 98%. Это будет сделать намного сложнее, чем через PyTorch, потому что вам всё нужно писать самим: более сложные оптимизаторы, learning rate decay, думать про численную стабильность и т. д.\n",
    "* По 2 балла за слои: LeakyReLU, Dropout, BatchNorm, CrossEntropy, SoftMax"
   ]
  },
  {
   "cell_type": "markdown",
   "metadata": {
    "colab_type": "text",
    "id": "VrI9amBAocWO"
   },
   "source": [
    "Советы:\n",
    "* Чтобы лучше понять, что должно в итоге получиться, изучите «игрушечный пример» и вообще эту тетрадку, а потом начните читать `hw_framework.py`, где будет более техничное описание.\n",
    "* Для дебага проверяйте градиенты численно — сдвигайте параметры на какой-нибудь эпсилон и смотрите разницу. Ещё можете проверить, что на одинаковых данных они дают то же, что их эквиваленты из PyTorch (можно после каждого нового слоя добавить юнит тест через `assert`).\n",
    "* Пишите код без циклов — в питоне они очень долгие; все вычисления можно делать внутри numpy.\n",
    "* Ограничение на срок сдачи большое — до конца всего курса, но рекомендуется закончить примерно за месяц. Дописывайте его постепенно, разбираясь, как работает каждая функция активации.\n",
    "* Обсуждайте математику и общую архитектуру фреймворка, но не шарьте друг другу код — так не интересно."
   ]
  },
  {
   "cell_type": "code",
   "execution_count": 1,
   "metadata": {
    "colab": {},
    "colab_type": "code",
    "id": "osDsI56TocWQ"
   },
   "outputs": [],
   "source": [
    "import numpy as np\n",
    "import matplotlib.pyplot as plt\n",
    "%matplotlib inline"
   ]
  },
  {
   "cell_type": "markdown",
   "metadata": {
    "colab_type": "text",
    "id": "rArLbzznocWU"
   },
   "source": [
    "---"
   ]
  },
  {
   "cell_type": "markdown",
   "metadata": {
    "colab_type": "text",
    "id": "9SpmBG6XocWV"
   },
   "source": [
    "Откройте в Jupyter две тетрадки — эту и `hw_framework.ipynb`. В этой содержится train loop, а там непосредственно ваш «фреймворк», который вам ещё предстоит написать.\n",
    "\n",
    "Архитектура фреймворка вдохновлена PyTorch. Как всегда, если придумаете какой-то более клёвый дизайн — можете использовать его."
   ]
  },
  {
   "cell_type": "code",
   "execution_count": null,
   "metadata": {
    "colab": {},
    "colab_type": "code",
    "id": "AR35O38uocWX"
   },
   "outputs": [],
   "source": [
    "%run hw_framework.ipynb"
   ]
  },
  {
   "cell_type": "markdown",
   "metadata": {
    "colab_type": "text",
    "id": "Z03GIF03ocWc"
   },
   "source": [
    "Мы будем использовать самый простой вариант градиентного спуска: просто пройдемся по всем параметрам и сделаем шаги в сторону уменьшения посчитанного заранее градиента.\n",
    "\n",
    "Есть [более продвинутые методы](http://ruder.io/optimizing-gradient-descent/), но пока что мы их использовать не будем."
   ]
  },
  {
   "cell_type": "code",
   "execution_count": 3,
   "metadata": {
    "colab": {},
    "colab_type": "code",
    "id": "gIkgsfAXocWd"
   },
   "outputs": [],
   "source": [
    "def SGD(params, gradients, lr=1e-3):    \n",
    "    for weights, gradient in zip(params, gradients):\n",
    "        #print(type(lr), type(gradient))\n",
    "        #print(lr, gradient)\n",
    "        weights -= lr * gradient"
   ]
  },
  {
   "cell_type": "markdown",
   "metadata": {
    "colab_type": "text",
    "id": "PfBYatsKocWh"
   },
   "source": [
    "Cоздадим обертку вокруг нашего датасета (просто numpy-евские массивы), которую будем потом использовать, чтобы итерироваться по нему."
   ]
  },
  {
   "cell_type": "code",
   "execution_count": 4,
   "metadata": {
    "colab": {},
    "colab_type": "code",
    "id": "jDmJKg8hocWi"
   },
   "outputs": [],
   "source": [
    "def loader(X, Y, batch_size):    \n",
    "    n = X.shape[0]\n",
    "\n",
    "    # в начале каждой эпохи будем всё перемешивать\n",
    "    # важно, что мы пермешиваем индексы, а не X\n",
    "    indices = np.arange(n)\n",
    "    np.random.shuffle(indices)\n",
    "    \n",
    "    for start in range(0, n, batch_size):\n",
    "        # в конце нам, возможно, нужно взять неполный батч\n",
    "        end = min(start + batch_size, n)\n",
    "        \n",
    "        batch_idx = indices[start:end]\n",
    "    \n",
    "        yield X[batch_idx], Y[batch_idx]"
   ]
  },
  {
   "cell_type": "markdown",
   "metadata": {
    "colab_type": "text",
    "id": "yMcWZrUPocWm"
   },
   "source": [
    "В следующих двух секциях — игрушечные примеры регрессии и классификации на синтезированных данных. В них ничего менять не надо — они нужны, чтобы отдебажить ваши слои в `hw_framework`."
   ]
  },
  {
   "cell_type": "markdown",
   "metadata": {
    "colab_type": "text",
    "id": "MLPP2pyMocWn"
   },
   "source": [
    "# Линейная регрессия"
   ]
  },
  {
   "cell_type": "code",
   "execution_count": 204,
   "metadata": {
    "colab": {},
    "colab_type": "code",
    "id": "i2oHX9NQocWo",
    "scrolled": true
   },
   "outputs": [
    {
     "name": "stdout",
     "output_type": "stream",
     "text": [
      "best_possible_mse: 0.0410045241607185\n"
     ]
    }
   ],
   "source": [
    "n = 1000\n",
    "\n",
    "X = np.random.randn(n, 11)\n",
    "true_w = np.random.randn(11, 1)\n",
    "Y = np.dot(X, true_w).reshape(n, 1) + np.random.randn(n, 1)/5\n",
    "\n",
    "print('best_possible_mse:', np.mean(np.power(Y.reshape(-1)-np.dot(X, true_w).reshape(n), 2)))"
   ]
  },
  {
   "cell_type": "markdown",
   "metadata": {
    "colab_type": "text",
    "id": "gu4bulrKocWs"
   },
   "source": [
    "### Модель"
   ]
  },
  {
   "cell_type": "code",
   "execution_count": 207,
   "metadata": {
    "colab": {},
    "colab_type": "code",
    "id": "2bHZzM0XocWt"
   },
   "outputs": [],
   "source": [
    "model = Sequential(\n",
    "    BatchNorm(),\n",
    "    Linear(11, 1),\n",
    ")\n",
    "\n",
    "criterion = MSE()"
   ]
  },
  {
   "cell_type": "markdown",
   "metadata": {
    "colab_type": "text",
    "id": "dsdkT55BocWx"
   },
   "source": [
    "Можете тут потом тестировать остальные свои слои, когда их напишите."
   ]
  },
  {
   "cell_type": "markdown",
   "metadata": {
    "colab_type": "text",
    "id": "G6cJy-nOocWy"
   },
   "source": [
    "### Обучение"
   ]
  },
  {
   "cell_type": "code",
   "execution_count": 208,
   "metadata": {
    "colab": {},
    "colab_type": "code",
    "id": "P3Y7VImUocW0"
   },
   "outputs": [],
   "source": [
    "batch_size = 100\n",
    "epochs = 30\n",
    "learning_rate = 1e-2"
   ]
  },
  {
   "cell_type": "code",
   "execution_count": 209,
   "metadata": {
    "colab": {},
    "colab_type": "code",
    "id": "8NHCVPRiocW4"
   },
   "outputs": [
    {
     "name": "stdout",
     "output_type": "stream",
     "text": [
      "6.5008592891609025\n",
      "7.118079011731417\n",
      "7.848013577616149\n",
      "7.061672958700301\n",
      "4.671120910151707\n",
      "5.293446877594619\n",
      "3.7816010482249593\n",
      "5.573987516738872\n",
      "4.777983394223178\n",
      "6.009262106787677\n",
      "5.704082368083123\n",
      "4.499716214536423\n",
      "4.939181101075933\n",
      "4.375980561535219\n",
      "2.917010747336343\n",
      "3.587809636241545\n",
      "2.847067033623385\n",
      "3.03433194279568\n",
      "3.865035035751495\n",
      "3.379855790813695\n",
      "3.0026710939396013\n",
      "3.826249521312888\n",
      "2.8193858990764493\n",
      "2.65412356977773\n",
      "2.773505256861588\n",
      "2.0394656440410004\n",
      "2.4905452982045495\n",
      "2.5254392203807847\n",
      "2.1910586323795407\n",
      "2.3037047812946496\n",
      "2.396352964740574\n",
      "2.0813717880790015\n",
      "1.6182965853340363\n",
      "1.531588127254727\n",
      "1.6091424578339906\n",
      "1.3921610991081068\n",
      "2.0227142764896167\n",
      "1.8520788755479478\n",
      "1.830395310189386\n",
      "1.3318479837732946\n",
      "1.5738981657203368\n",
      "1.4537403668460667\n",
      "1.5690619053038894\n",
      "1.0486459688854957\n",
      "1.1537519969197203\n",
      "0.9821686636516042\n",
      "1.058997562300671\n",
      "1.3268598672258758\n",
      "1.0250118114375484\n",
      "0.966927007285363\n",
      "0.8032305205959454\n",
      "0.886704026554624\n",
      "1.3716263247238671\n",
      "0.692392408516945\n",
      "0.8640632107280336\n",
      "0.7025217970310242\n",
      "0.7268562602708546\n",
      "0.8352910071671719\n",
      "0.8567775901788157\n",
      "1.2717140475895272\n",
      "1.0024092874892359\n",
      "0.6166789168486044\n",
      "0.6033374881684768\n",
      "0.4110812301393122\n",
      "0.7903996653472468\n",
      "0.5437398476642064\n",
      "0.4264528095040131\n",
      "0.7529752011562161\n",
      "0.6048116479820892\n",
      "0.9250369441439775\n",
      "0.6216620679434898\n",
      "0.34233121327173577\n",
      "0.40537997546984267\n",
      "0.6450449692093051\n",
      "0.2562822921922398\n",
      "0.5827887421166392\n",
      "0.3759056550095309\n",
      "0.4392263508622723\n",
      "0.513474344092053\n",
      "0.4868261985548443\n",
      "0.5984863757602885\n",
      "0.2720557010161119\n",
      "0.4059217802724553\n",
      "0.2708286291443646\n",
      "0.38307686149344883\n",
      "0.24990595831605883\n",
      "0.3856496682854735\n",
      "0.6560397841749392\n",
      "0.1699403433471424\n",
      "0.6927367379131151\n",
      "0.3422027948516609\n",
      "0.2595504093724709\n",
      "0.35846514840533344\n",
      "0.30011617932782847\n",
      "0.6054834363865198\n",
      "0.33199654216465574\n",
      "0.14855004047318646\n",
      "0.1561419337860426\n",
      "0.20939664676983194\n",
      "0.17766852280937187\n",
      "0.13675377705930267\n",
      "0.23167373808531935\n",
      "0.1414535869920973\n",
      "0.12975529947427197\n",
      "0.4629250013629806\n",
      "0.36405866754293426\n",
      "0.20884455488081713\n",
      "0.1180400763442083\n",
      "0.14394720957055757\n",
      "0.17111193076302425\n",
      "0.22463210328773253\n",
      "0.11083393919212804\n",
      "0.12933854705838702\n",
      "0.10191932913616865\n",
      "0.1915029256670656\n",
      "0.22001715507106176\n",
      "0.11065858437190983\n",
      "0.09529862420214322\n",
      "0.1790531566779471\n",
      "0.35729101953436937\n",
      "0.34717051922177816\n",
      "0.10562200878041722\n",
      "0.1759742146782121\n",
      "0.22448732799161364\n",
      "0.17116332673628365\n",
      "0.06526891761335772\n",
      "0.12936758846074004\n",
      "0.09711007651275068\n",
      "0.14104644954342177\n",
      "0.07978445434361708\n",
      "0.12310705659989475\n",
      "0.10950895527871563\n",
      "0.14900911445649784\n",
      "0.161543353923406\n",
      "0.13888363268503823\n",
      "0.19271985053046536\n",
      "0.3199600876770467\n",
      "0.14790156865173557\n",
      "0.13213677749748862\n",
      "0.11712187498644605\n",
      "0.40966262336595305\n",
      "0.06617405991765234\n",
      "0.16995608437412674\n",
      "0.10985376737120969\n",
      "0.4102543068944713\n",
      "0.0665811353854907\n",
      "0.1871572794442906\n",
      "0.08146338487451056\n",
      "0.08998755934289453\n",
      "0.07403812379568749\n",
      "0.13500572875381966\n",
      "0.13989986907676194\n",
      "0.04992239762906115\n",
      "0.18755763625451016\n",
      "0.09437793952479438\n",
      "0.08751449977375071\n",
      "0.05142202791457871\n",
      "0.09025866895992467\n",
      "0.1371303842966261\n",
      "0.12554183510995118\n",
      "0.2249549557752665\n",
      "0.08532660393718215\n",
      "0.31758722390517835\n",
      "0.07748261970442628\n",
      "0.08006791574230192\n",
      "0.0853078110993755\n",
      "0.1133785597409205\n",
      "0.13883573247929296\n",
      "0.3344753905826407\n",
      "0.11509039807202534\n",
      "0.1518233389268531\n",
      "0.05345081993900885\n",
      "0.06267103188667578\n",
      "0.0761381532139804\n",
      "0.3824192779635724\n",
      "0.1373210217565516\n",
      "0.10570712712103074\n",
      "0.07219820219768984\n",
      "0.30614571033126603\n",
      "0.09352599550572548\n",
      "0.09158365785660365\n",
      "0.17962408785627113\n",
      "0.08112942925168964\n",
      "0.31198539509203577\n",
      "0.09991801316375971\n",
      "0.07526771601059797\n",
      "0.23959522302299113\n",
      "0.12122471280657442\n",
      "0.15322170763687556\n",
      "0.21942669324458136\n",
      "0.12986465090461516\n",
      "0.08750930914090528\n",
      "0.21052475320105693\n",
      "0.4145018760477209\n",
      "0.1041793075843335\n",
      "0.11526558699719736\n",
      "0.11338000680439646\n",
      "0.14827640611058024\n",
      "0.10331275966311024\n",
      "0.12315327619994276\n",
      "0.20308095991958675\n",
      "0.0997744010499404\n",
      "0.04993447467355406\n",
      "0.13621276695192683\n",
      "0.05906467526495157\n",
      "0.09064564992921366\n",
      "0.11886144482257537\n",
      "0.09283655035959545\n",
      "0.12783772213267888\n",
      "0.07170916087513855\n",
      "0.0719230484006205\n",
      "0.4698056312811068\n",
      "0.2256901535565686\n",
      "0.224733539405757\n",
      "0.11100732841873247\n",
      "0.22784642072522807\n",
      "0.09782820980747528\n",
      "0.2427463919975584\n",
      "0.06264380248556417\n",
      "0.140037308158278\n",
      "0.09208975327974389\n",
      "0.19715082803662845\n",
      "0.08333442257983804\n",
      "0.28303718830984376\n",
      "0.071434050343477\n",
      "0.16531814344146326\n",
      "0.2785887878862102\n",
      "0.1853582423297005\n",
      "0.09823419471868501\n",
      "0.06982477228969013\n",
      "0.11806086124146362\n",
      "0.07813281553496038\n",
      "0.09815062050740854\n",
      "0.20761332998274498\n",
      "0.3420696874118668\n",
      "0.09166778687693432\n",
      "0.09346680706797322\n",
      "0.06785389663794868\n",
      "0.40185901204709706\n",
      "0.08268191475559314\n",
      "0.21489354766468435\n",
      "0.062136578003680464\n",
      "0.06657263191153538\n",
      "0.26220298306936646\n",
      "0.12851278363747767\n",
      "0.1299632300083312\n",
      "0.07821677757861044\n",
      "0.055866105553013974\n",
      "0.10331244231326099\n",
      "0.15152344506190876\n",
      "0.06647166210335143\n",
      "0.06563274354106043\n",
      "0.22120567576918643\n",
      "0.11349467568718802\n",
      "0.13205468511379118\n",
      "0.06669165846442812\n",
      "0.24447017924008368\n",
      "0.20575039166119183\n",
      "0.06478504928590563\n",
      "0.0816542223937545\n",
      "0.04372328354040808\n",
      "0.36163489624543976\n",
      "0.08287697464831878\n",
      "0.12991944700010039\n",
      "0.3773673663546955\n",
      "0.0931861769331921\n",
      "0.0776115917540666\n",
      "0.32103158732276044\n",
      "0.12064378901046767\n",
      "0.10533322924737214\n",
      "0.06819567781749275\n",
      "0.08457093408583477\n",
      "0.17411629034690215\n",
      "0.06928326554370483\n",
      "0.3507796851309547\n",
      "0.16425652286778025\n",
      "0.1475789143084959\n",
      "0.1791504922466401\n",
      "0.051105390472518206\n",
      "0.3258282358848092\n",
      "0.2790760095396437\n",
      "0.07031922548448244\n",
      "0.08055476181646207\n",
      "0.07604430049323775\n",
      "0.07550932754402784\n",
      "0.25344566846987676\n",
      "0.05123349289473606\n",
      "0.04976709089705155\n",
      "0.1671345768703139\n",
      "0.45664928280484235\n",
      "0.13164017622274427\n",
      "0.10557928488528924\n",
      "0.15780929493141252\n",
      "0.07588661142761197\n",
      "0.10972104965854328\n",
      "0.17810538269146745\n",
      "0.12211134044049633\n",
      "0.1264308778639348\n",
      "0.101300840351314\n",
      "0.14790739988266483\n"
     ]
    },
    {
     "data": {
      "image/png": "[encoded data removed]",
      "text/plain": [
       "<Figure size 432x288 with 1 Axes>"
      ]
     },
     "metadata": {
      "needs_background": "light"
     },
     "output_type": "display_data"
    }
   ],
   "source": [
    "history = []\n",
    "\n",
    "for i in range(epochs):\n",
    "    for x, y_true in loader(X, Y, batch_size):\n",
    "        # forward -- считаем все значения до функции потерь\n",
    "        y_pred = model.forward(x)\n",
    "        loss = criterion.forward(y_pred, y_true)\n",
    "        \n",
    "        #print(y_pred, y_true)\n",
    "        #print('SUM OF SQUARES:', np.mean(np.power(y_pred-y_true, 2)))\n",
    "    \n",
    "        # backward -- считаем все градиенты в обратном порядке\n",
    "        grad = criterion.backward(y_pred, y_true)\n",
    "        model.backward(x, grad)\n",
    "        \n",
    "        # обновляем веса\n",
    "        SGD(model.parameters(),\n",
    "            model.grad_parameters(),\n",
    "            learning_rate)\n",
    "        \n",
    "        #print(model.layers[0].W[0][0])\n",
    "        print(loss)\n",
    "        \n",
    "        history.append(loss)\n",
    "\n",
    "    \n",
    "plt.title(\"Training loss\")\n",
    "plt.xlabel(\"iteration\")\n",
    "plt.ylabel(\"loss\")\n",
    "plt.plot(history, 'b')\n",
    "plt.show()"
   ]
  },
  {
   "cell_type": "markdown",
   "metadata": {
    "colab_type": "text",
    "id": "33YJP2KeocW8"
   },
   "source": [
    "# Логистическая регрессия\n",
    "\n",
    "Этот пример нужнен для теситрования классификации (`CrossEntropy` и `SoftMax`).\n",
    "\n",
    "Возьмем в качестве датасета точки из двух гауссиан на плоскости."
   ]
  },
  {
   "cell_type": "code",
   "execution_count": 210,
   "metadata": {
    "colab": {},
    "colab_type": "code",
    "id": "Vy-6IgGWocW9",
    "scrolled": false
   },
   "outputs": [
    {
     "data": {
      "image/png": "[encoded data removed]",
      "text/plain": [
       "<Figure size 432x288 with 1 Axes>"
      ]
     },
     "metadata": {
      "needs_background": "light"
     },
     "output_type": "display_data"
    }
   ],
   "source": [
    "n = 500\n",
    "\n",
    "X1 = np.random.randn(n, 2) + np.array([2, 2])\n",
    "X2 = np.random.randn(n, 2) + np.array([-2, -2])\n",
    "X = np.vstack([X1, X2])\n",
    "\n",
    "Y = np.concatenate([np.ones(n), np.zeros(n)])[:, None]\n",
    "Y = np.hstack([Y, 1-Y])\n",
    "\n",
    "plt.scatter(X[:,0], X[:,1], c=Y[:,0])\n",
    "plt.show()"
   ]
  },
  {
   "cell_type": "markdown",
   "metadata": {
    "colab_type": "text",
    "id": "g6ga19VxocXB"
   },
   "source": [
    "Обратите внимание на `y`. Он в формате one-hot: у каждого вектора все нули, кроме одной единицы.\n",
    "\n",
    "Выходные данные в таком формате упростят написание `CrossEntropy`."
   ]
  },
  {
   "cell_type": "markdown",
   "metadata": {
    "colab_type": "text",
    "id": "zNDguGQXocXD"
   },
   "source": [
    "### Модель\n",
    "\n",
    "Логистическая регрессия — это тоже как бы маленькая нейронка: линейный слой, софтмакс, и максимизируем правдоподобие."
   ]
  },
  {
   "cell_type": "code",
   "execution_count": 211,
   "metadata": {
    "colab": {},
    "colab_type": "code",
    "id": "fdKlc0EgocXE"
   },
   "outputs": [],
   "source": [
    "model = Sequential(\n",
    "    Linear(2, 2),\n",
    "    SoftMax()\n",
    ")\n",
    "\n",
    "criterion = NegativeLikelihood()"
   ]
  },
  {
   "cell_type": "markdown",
   "metadata": {
    "colab_type": "text",
    "id": "NMoT8yXCocXI"
   },
   "source": [
    "### Обучение"
   ]
  },
  {
   "cell_type": "code",
   "execution_count": 212,
   "metadata": {
    "colab": {},
    "colab_type": "code",
    "id": "KIk7RXUrocXJ"
   },
   "outputs": [],
   "source": [
    "epochs = 10\n",
    "batch_size = 16\n",
    "learning_rate = 1e-2"
   ]
  },
  {
   "cell_type": "code",
   "execution_count": 213,
   "metadata": {
    "colab": {},
    "colab_type": "code",
    "id": "6RU473D9ocXN",
    "scrolled": false
   },
   "outputs": [
    {
     "data": {
      "image/png": "[encoded data removed]",
      "text/plain": [
       "<Figure size 432x288 with 1 Axes>"
      ]
     },
     "metadata": {
      "needs_background": "light"
     },
     "output_type": "display_data"
    }
   ],
   "source": [
    "history = []\n",
    "\n",
    "for i in range(epochs):\n",
    "    for x, y_true in loader(X, Y, batch_size):\n",
    "        # forward: считаем все значения до функции потерь\n",
    "        y_pred = model.forward(x)\n",
    "        loss = criterion.forward(y_pred, y_true)\n",
    "    \n",
    "        # backward: считаем все градиенты в обратном порядке\n",
    "        grad = criterion.backward(y_pred, y_true)\n",
    "        model.backward(x, grad)\n",
    "        \n",
    "        # обновляем веса\n",
    "        SGD(model.parameters(),\n",
    "            model.grad_parameters(),\n",
    "            learning_rate)\n",
    "        \n",
    "        # логгируем лосс\n",
    "        history.append(loss)\n",
    "\n",
    "    \n",
    "plt.title(\"Training loss\")\n",
    "plt.xlabel(\"iteration\")\n",
    "plt.ylabel(\"loss\")\n",
    "plt.plot(history, 'b')\n",
    "plt.show()"
   ]
  },
  {
   "cell_type": "code",
   "execution_count": 214,
   "metadata": {},
   "outputs": [
    {
     "data": {
      "text/plain": [
       "<matplotlib.collections.PathCollection at 0x1bd2609d2e0>"
      ]
     },
     "execution_count": 214,
     "metadata": {},
     "output_type": "execute_result"
    },
    {
     "data": {
      "image/png": "[encoded data removed]",
      "text/plain": [
       "<Figure size 432x288 with 1 Axes>"
      ]
     },
     "metadata": {
      "needs_background": "light"
     },
     "output_type": "display_data"
    }
   ],
   "source": [
    "y_pred = model.forward(X)\n",
    "\n",
    "plt.scatter(X[:, 0], X[:, 1], c=y_pred[:, 1])"
   ]
  },
  {
   "cell_type": "code",
   "execution_count": 215,
   "metadata": {},
   "outputs": [
    {
     "data": {
      "image/png": "[encoded data removed]",
      "text/plain": [
       "<Figure size 432x288 with 1 Axes>"
      ]
     },
     "metadata": {
      "needs_background": "light"
     },
     "output_type": "display_data"
    }
   ],
   "source": [
    "n = 500\n",
    "\n",
    "X1 = np.random.randn(n, 2) + np.array([-2, -2])\n",
    "X2 = 4 * np.random.randn(n, 2) + np.array([-2, -2])\n",
    "X = np.vstack([X1, X2])\n",
    "\n",
    "Y = np.concatenate([np.ones(n), np.zeros(n)])[:, None]\n",
    "Y = np.hstack([Y, 1-Y])\n",
    "\n",
    "plt.scatter(X[:,0], X[:,1], c=Y[:,0])\n",
    "plt.show()"
   ]
  },
  {
   "cell_type": "code",
   "execution_count": 216,
   "metadata": {},
   "outputs": [],
   "source": [
    "model = Sequential(\n",
    "    Linear(2, 50),\n",
    "    LeakyReLU(),\n",
    "    Linear(50, 20),\n",
    "    LeakyReLU(),\n",
    "    Linear(20, 2),\n",
    "    SoftMax()\n",
    ")\n",
    "\n",
    "criterion = NegativeLikelihood()"
   ]
  },
  {
   "cell_type": "code",
   "execution_count": 217,
   "metadata": {},
   "outputs": [
    {
     "data": {
      "image/png": "[encoded data removed]",
      "text/plain": [
       "<Figure size 432x288 with 1 Axes>"
      ]
     },
     "metadata": {
      "needs_background": "light"
     },
     "output_type": "display_data"
    }
   ],
   "source": [
    "history = []\n",
    "\n",
    "for i in range(epochs):\n",
    "    for x, y_true in loader(X, Y, batch_size):\n",
    "        # forward: считаем все значения до функции потерь\n",
    "        y_pred = model.forward(x)\n",
    "        loss = criterion.forward(y_pred, y_true)\n",
    "    \n",
    "        # backward: считаем все градиенты в обратном порядке\n",
    "        grad = criterion.backward(y_pred, y_true)\n",
    "        model.backward(x, grad)\n",
    "        \n",
    "        # обновляем веса\n",
    "        SGD(model.parameters(),\n",
    "            model.grad_parameters(),\n",
    "            learning_rate)\n",
    "        \n",
    "        # логгируем лосс\n",
    "        history.append(loss)\n",
    "\n",
    "    \n",
    "plt.title(\"Training loss\")\n",
    "plt.xlabel(\"iteration\")\n",
    "plt.ylabel(\"loss\")\n",
    "plt.plot(history, 'b')\n",
    "plt.show()"
   ]
  },
  {
   "cell_type": "code",
   "execution_count": 175,
   "metadata": {},
   "outputs": [
    {
     "data": {
      "text/plain": [
       "<matplotlib.collections.PathCollection at 0x1bd2630eee0>"
      ]
     },
     "execution_count": 175,
     "metadata": {},
     "output_type": "execute_result"
    },
    {
     "data": {
      "image/png": "[encoded data removed]",
      "text/plain": [
       "<Figure size 432x288 with 1 Axes>"
      ]
     },
     "metadata": {
      "needs_background": "light"
     },
     "output_type": "display_data"
    }
   ],
   "source": [
    "y_pred = model.forward(X)\n",
    "\n",
    "plt.scatter(X[:, 0], X[:, 1], c=y_pred[:, 1])"
   ]
  },
  {
   "cell_type": "markdown",
   "metadata": {
    "colab_type": "text",
    "id": "Mc_7Av6uocXR"
   },
   "source": [
    "Мы тут пропустили много важных деталей: валидация, подсчет точности (кроссэнтропия не очень информативна), регуляризация. Вам всё это нужно будет реализовать потом самим."
   ]
  },
  {
   "cell_type": "markdown",
   "metadata": {
    "colab_type": "text",
    "id": "tmqQxNhFocXS"
   },
   "source": [
    "# Теперь сами"
   ]
  },
  {
   "cell_type": "code",
   "execution_count": 70,
   "metadata": {
    "colab": {},
    "colab_type": "code",
    "id": "BRYIbyvzocXT"
   },
   "outputs": [],
   "source": [
    "import os\n",
    "from sklearn.datasets import fetch_openml\n",
    "# эти библиотеки нужны только для того, чтобы скачать MNISt\n",
    "\n",
    "if os.path.exists('mnist.npz'):\n",
    "    with np.load('mnist.npz', 'r') as data:\n",
    "        X = data['X']\n",
    "        y = data['y']\n",
    "else:\n",
    "    mnist = fetch_openml(\"mnist_784\")\n",
    "    # очень важно его отнормировать -- см. Linear в hw_framework\n",
    "    X = mnist.data / 255.0\n",
    "    y = mnist.target\n",
    "    np.savez('mnist.npz', X=X, y=y)"
   ]
  },
  {
   "cell_type": "markdown",
   "metadata": {
    "colab_type": "text",
    "id": "FPZV7JdYocXa"
   },
   "source": [
    "Переведите лейблы в one-hot."
   ]
  },
  {
   "cell_type": "code",
   "execution_count": 71,
   "metadata": {},
   "outputs": [],
   "source": [
    "one_hot_encoder = lambda target, classes=10: np.eye(classes)[target.astype('int')]"
   ]
  },
  {
   "cell_type": "code",
   "execution_count": 7,
   "metadata": {
    "colab": {},
    "colab_type": "code",
    "id": "A0n63WKSocXc"
   },
   "outputs": [
    {
     "data": {
      "text/plain": [
       "array([0., 0., 0., 0., 0., 0., 0., 0., 0., 1.])"
      ]
     },
     "execution_count": 7,
     "metadata": {},
     "output_type": "execute_result"
    }
   ],
   "source": [
    "one_hot_encoder(np.array(9))"
   ]
  },
  {
   "cell_type": "code",
   "execution_count": 8,
   "metadata": {},
   "outputs": [
    {
     "data": {
      "text/plain": [
       "(70000,)"
      ]
     },
     "execution_count": 8,
     "metadata": {},
     "output_type": "execute_result"
    }
   ],
   "source": [
    "y.shape"
   ]
  },
  {
   "cell_type": "code",
   "execution_count": 9,
   "metadata": {},
   "outputs": [
    {
     "data": {
      "text/plain": [
       "array(['5', '0'], dtype=object)"
      ]
     },
     "execution_count": 9,
     "metadata": {},
     "output_type": "execute_result"
    }
   ],
   "source": [
    "y[:2]"
   ]
  },
  {
   "cell_type": "code",
   "execution_count": 10,
   "metadata": {},
   "outputs": [
    {
     "data": {
      "text/plain": [
       "array([[0., 0., 0., 0., 0., 1., 0., 0., 0., 0.],\n",
       "       [1., 0., 0., 0., 0., 0., 0., 0., 0., 0.]])"
      ]
     },
     "execution_count": 10,
     "metadata": {},
     "output_type": "execute_result"
    }
   ],
   "source": [
    "np.apply_along_axis(one_hot_encoder, 0, y[:2])"
   ]
  },
  {
   "cell_type": "code",
   "execution_count": 72,
   "metadata": {},
   "outputs": [],
   "source": [
    "y = np.apply_along_axis(one_hot_encoder, 0, y)"
   ]
  },
  {
   "cell_type": "markdown",
   "metadata": {
    "colab_type": "text",
    "id": "d726biJBocXj"
   },
   "source": [
    "Разделите датасет на train и validation."
   ]
  },
  {
   "cell_type": "code",
   "execution_count": 73,
   "metadata": {
    "colab": {},
    "colab_type": "code",
    "id": "VDMMhl24ocXk"
   },
   "outputs": [],
   "source": [
    "from sklearn.model_selection import train_test_split\n",
    "X_train, X_test, y_train, y_test = train_test_split(X, y, test_size=0.2, random_state=62)"
   ]
  },
  {
   "cell_type": "markdown",
   "metadata": {
    "colab_type": "text",
    "id": "XHv3CVCIocXo"
   },
   "source": [
    "Теперь напишите модель и train loop. Можете начать с адаптации предыдущего примера.\n",
    "\n",
    "Дальше начинается творческая часть и настоящий Deep Learning:\n",
    "* поиграйтесь с архитектурами;\n",
    "* поиграйтесь с learning rate и batch_size;\n",
    "* сделайте learning rate decay;\n",
    "* сделайте data augmentation.\n",
    "\n",
    "Have fun. Дедлайн — не две недели, а до конца курса."
   ]
  },
  {
   "cell_type": "code",
   "execution_count": 74,
   "metadata": {},
   "outputs": [],
   "source": [
    "EPOCHS = 50\n",
    "LR = 1e-2\n",
    "BATCH_SIZE = 100"
   ]
  },
  {
   "cell_type": "code",
   "execution_count": 75,
   "metadata": {},
   "outputs": [],
   "source": [
    "model =  Sequential(\n",
    "    BatchNorm((BATCH_SIZE, 784)),\n",
    "    LeakyReLU(),\n",
    "    Linear(784, 228),\n",
    "    LeakyReLU(),\n",
    "    Dropout(0.15),\n",
    "    Linear(228, 100),\n",
    "    Sigmoid(),\n",
    "    Dropout(0.15),\n",
    "    Linear(100, 10)\n",
    ")"
   ]
  },
  {
   "cell_type": "code",
   "execution_count": 76,
   "metadata": {},
   "outputs": [],
   "source": [
    "criterion = CrossEntropy()"
   ]
  },
  {
   "cell_type": "code",
   "execution_count": 17,
   "metadata": {},
   "outputs": [],
   "source": [
    "from collections import Counter"
   ]
  },
  {
   "cell_type": "code",
   "execution_count": 18,
   "metadata": {},
   "outputs": [
    {
     "data": {
      "text/plain": [
       "array([5, 0, 4, 1, 9, 2, 1, 3, 1, 4], dtype=int64)"
      ]
     },
     "execution_count": 18,
     "metadata": {},
     "output_type": "execute_result"
    }
   ],
   "source": [
    "one_hot_decoder = lambda x: np.argmax(x)\n",
    "y_labels = np.apply_along_axis(one_hot_decoder, 1, y)\n",
    "y_labels[:10]"
   ]
  },
  {
   "cell_type": "code",
   "execution_count": 19,
   "metadata": {},
   "outputs": [
    {
     "data": {
      "text/plain": [
       "Counter({5: 6313,\n",
       "         0: 6903,\n",
       "         4: 6824,\n",
       "         1: 7877,\n",
       "         9: 6958,\n",
       "         2: 6990,\n",
       "         3: 7141,\n",
       "         6: 6876,\n",
       "         7: 7293,\n",
       "         8: 6825})"
      ]
     },
     "execution_count": 19,
     "metadata": {},
     "output_type": "execute_result"
    }
   ],
   "source": [
    "Counter(y_labels)"
   ]
  },
  {
   "cell_type": "markdown",
   "metadata": {},
   "source": [
    "Особого дисбаланса классов нет, всех классов приблизительно поровну, поэтому для валидации можем использовать accuracy"
   ]
  },
  {
   "cell_type": "code",
   "execution_count": 77,
   "metadata": {},
   "outputs": [],
   "source": [
    "def eval_model(model, loader):\n",
    "    model.eval()\n",
    "    running_loss = 0\n",
    "    total = 0\n",
    "    accuracy = 0\n",
    "    for i, (image, target) in enumerate(loader):\n",
    "        y_pred = model.forward(image)\n",
    "        running_loss += criterion.forward(y_pred, target)\n",
    "        decoded_target = np.apply_along_axis(one_hot_decoder, 1, target)\n",
    "        total += y_pred.shape[0]\n",
    "        accuracy += (np.argmax(y_pred, axis=1) == decoded_target).sum()    \n",
    "    accuracy /= total\n",
    "    running_loss /= (i+1) \n",
    "    model.train()\n",
    "    return running_loss, accuracy"
   ]
  },
  {
   "cell_type": "code",
   "execution_count": 78,
   "metadata": {},
   "outputs": [
    {
     "name": "stdout",
     "output_type": "stream",
     "text": [
      "0 epoch train loss = 0.44039740376387854\n",
      "test loss = 0.17304309713709567\n",
      "accuracy = 0.9470714285714286\n",
      "1 epoch train loss = 0.16017061851057934\n",
      "test loss = 0.13638118163005608\n",
      "accuracy = 0.9568571428571429\n",
      "2 epoch train loss = 0.11617238718487184\n",
      "test loss = 0.11049511739207481\n",
      "accuracy = 0.9642857142857143\n",
      "3 epoch train loss = 0.09221891998299808\n",
      "test loss = 0.09636866187768127\n",
      "accuracy = 0.9698571428571429\n",
      "4 epoch train loss = 0.07570544286220875\n",
      "test loss = 0.09075943775278521\n",
      "accuracy = 0.9715714285714285\n",
      "5 epoch train loss = 0.06456833773254247\n",
      "test loss = 0.08586315999441951\n",
      "accuracy = 0.9731428571428572\n",
      "6 epoch train loss = 0.052897362016945774\n",
      "test loss = 0.08183859033453586\n",
      "accuracy = 0.9742857142857143\n",
      "7 epoch train loss = 0.045841022024360634\n",
      "test loss = 0.078145657545192\n",
      "accuracy = 0.9762857142857143\n",
      "8 epoch train loss = 0.04361879398143946\n",
      "test loss = 0.08138189238676936\n",
      "accuracy = 0.9754285714285714\n",
      "9 epoch train loss = 0.03612371672174753\n",
      "test loss = 0.08334476224690854\n",
      "accuracy = 0.9766428571428571\n",
      "10 epoch train loss = 0.034503435912319705\n",
      "test loss = 0.07622545146254937\n",
      "accuracy = 0.9784285714285714\n",
      "11 epoch train loss = 0.030144767306972214\n",
      "test loss = 0.08314081095213999\n",
      "accuracy = 0.9763571428571428\n",
      "12 epoch train loss = 0.027673289802709604\n",
      "test loss = 0.08469546227917865\n",
      "accuracy = 0.9755\n",
      "13 epoch train loss = 0.025850115581031657\n",
      "test loss = 0.07762769496750711\n",
      "accuracy = 0.9781428571428571\n",
      "14 epoch train loss = 0.023485417280810345\n",
      "test loss = 0.07702230566536927\n",
      "accuracy = 0.9786428571428571\n",
      "15 epoch train loss = 0.02103724182415966\n",
      "test loss = 0.08270391469039082\n",
      "accuracy = 0.9774285714285714\n",
      "16 epoch train loss = 0.02070006297478712\n",
      "test loss = 0.07689957002531098\n",
      "accuracy = 0.9798571428571429\n",
      "17 epoch train loss = 0.02001076654153801\n",
      "test loss = 0.08287868989238636\n",
      "accuracy = 0.9774285714285714\n",
      "18 epoch train loss = 0.017283541851352346\n",
      "test loss = 0.07724551162376733\n",
      "accuracy = 0.9785\n",
      "19 epoch train loss = 0.016741915529747374\n",
      "test loss = 0.09113322342542884\n",
      "accuracy = 0.9762857142857143\n",
      "20 epoch train loss = 0.015619348874486074\n",
      "test loss = 0.08955928652356106\n",
      "accuracy = 0.9770714285714286\n",
      "21 epoch train loss = 0.015413487374192639\n",
      "test loss = 0.08064741194805437\n",
      "accuracy = 0.9777857142857143\n",
      "22 epoch train loss = 0.01530951054737135\n",
      "test loss = 0.08338108310922616\n",
      "accuracy = 0.9775\n",
      "23 epoch train loss = 0.012655850073733172\n",
      "test loss = 0.07787912883408744\n",
      "accuracy = 0.9793571428571428\n",
      "24 epoch train loss = 0.011527740787329663\n",
      "test loss = 0.07790759822146968\n",
      "accuracy = 0.9792142857142857\n",
      "25 epoch train loss = 0.0110658111814513\n",
      "test loss = 0.08202096380646881\n",
      "accuracy = 0.9796428571428571\n",
      "26 epoch train loss = 0.010567116913934783\n",
      "test loss = 0.08312332194588593\n",
      "accuracy = 0.9784285714285714\n",
      "27 epoch train loss = 0.01059048653343913\n",
      "test loss = 0.08784214090092794\n",
      "accuracy = 0.9784285714285714\n",
      "28 epoch train loss = 0.010286622794523158\n",
      "test loss = 0.08567890196378684\n",
      "accuracy = 0.9791428571428571\n",
      "29 epoch train loss = 0.00928617033187615\n",
      "test loss = 0.08087616950471953\n",
      "accuracy = 0.9804285714285714\n",
      "30 epoch train loss = 0.009812778363315837\n",
      "test loss = 0.0789287348087204\n",
      "accuracy = 0.9801428571428571\n",
      "31 epoch train loss = 0.009247142983658183\n",
      "test loss = 0.08058736879122787\n",
      "accuracy = 0.9798571428571429\n",
      "32 epoch train loss = 0.008425107514077072\n",
      "test loss = 0.07939154196373187\n",
      "accuracy = 0.9803571428571428\n",
      "33 epoch train loss = 0.007833101815224884\n",
      "test loss = 0.08682016345338739\n",
      "accuracy = 0.9792857142857143\n",
      "34 epoch train loss = 0.007943959958182737\n",
      "test loss = 0.08553901061562423\n",
      "accuracy = 0.9790714285714286\n",
      "35 epoch train loss = 0.008227893510195835\n",
      "test loss = 0.0823372049526464\n",
      "accuracy = 0.9799285714285715\n",
      "36 epoch train loss = 0.008595028221460771\n",
      "test loss = 0.08234783046605684\n",
      "accuracy = 0.9800714285714286\n",
      "37 epoch train loss = 0.005969983561564258\n",
      "test loss = 0.08767997167250405\n",
      "accuracy = 0.9798571428571429\n",
      "38 epoch train loss = 0.007421732315810138\n",
      "test loss = 0.08491952189293558\n",
      "accuracy = 0.9800714285714286\n",
      "39 epoch train loss = 0.007771946303389644\n",
      "test loss = 0.08449201088979416\n",
      "accuracy = 0.9798571428571429\n",
      "40 epoch train loss = 0.005987592252813781\n",
      "test loss = 0.08039196225305682\n",
      "accuracy = 0.9805714285714285\n",
      "41 epoch train loss = 0.006893011562513615\n",
      "test loss = 0.08289533820629388\n",
      "accuracy = 0.9807142857142858\n",
      "42 epoch train loss = 0.00644731885832964\n",
      "test loss = 0.08234569708392586\n",
      "accuracy = 0.9808571428571429\n",
      "43 epoch train loss = 0.005873354135702914\n",
      "test loss = 0.0850228285119921\n",
      "accuracy = 0.9805714285714285\n",
      "44 epoch train loss = 0.005683030674937425\n",
      "test loss = 0.08533902898445159\n",
      "accuracy = 0.9800714285714286\n",
      "45 epoch train loss = 0.005039915956835662\n",
      "test loss = 0.08261498281103269\n",
      "accuracy = 0.9806428571428571\n",
      "46 epoch train loss = 0.0056733746252284195\n",
      "test loss = 0.08540290530489349\n",
      "accuracy = 0.9791428571428571\n",
      "47 epoch train loss = 0.005843040426182425\n",
      "test loss = 0.09220264618337022\n",
      "accuracy = 0.9784285714285714\n",
      "48 epoch train loss = 0.006111692066322868\n",
      "test loss = 0.09629963245471117\n",
      "accuracy = 0.9768571428571429\n",
      "49 epoch train loss = 0.004792429094611451\n",
      "test loss = 0.08815678005333828\n",
      "accuracy = 0.98\n"
     ]
    },
    {
     "data": {
      "text/plain": [
       "[<matplotlib.lines.Line2D at 0x20739134eb0>]"
      ]
     },
     "execution_count": 78,
     "metadata": {},
     "output_type": "execute_result"
    },
    {
     "data": {
      "image/png": "[encoded data removed]",
      "text/plain": [
       "<Figure size 432x288 with 1 Axes>"
      ]
     },
     "metadata": {
      "needs_background": "light"
     },
     "output_type": "display_data"
    }
   ],
   "source": [
    "history = {'losses':[], 'epoch_losses':[]}\n",
    "for epoch in range(EPOCHS):\n",
    "    history['epoch_losses'] = []\n",
    "    for image, target in loader(X_train, y_train, batch_size=BATCH_SIZE):\n",
    "        y_pred = model.forward(image)\n",
    "\n",
    "        loss = criterion.forward(y_pred, target)\n",
    "        \n",
    "        grad = criterion.backward(y_pred, target)\n",
    "\n",
    "        model.backward(image, grad)\n",
    "\n",
    "        SGD(model.parameters(), \n",
    "            model.grad_parameters(), \n",
    "            lr=LR)\n",
    "        history['losses'].append(loss)\n",
    "        history['epoch_losses'].append(loss)\n",
    "\n",
    "    if epoch % 5 == 0:\n",
    "        LR *= 0.9\n",
    "    print('{} epoch train loss = {}\\n\\\n",
    "test loss = {}\\naccuracy = {}'.format(\n",
    "        epoch,\n",
    "        np.mean(history['epoch_losses']), \n",
    "        *eval_model(\n",
    "                    model,\n",
    "                    loader(X_test, y_test, batch_size=BATCH_SIZE)\n",
    "                    )\n",
    "        )\n",
    "    )\n",
    "plt.plot(history['losses'])"
   ]
  }
 ],
 "metadata": {
  "colab": {
   "collapsed_sections": [],
   "name": "hw_backprop.ipynb",
   "provenance": []
  },
  "interpreter": {
   "hash": "5179d32cf6ec497baf3f8a3ef987cc77c5d2dc691fdde20a56316522f61a7323"
  },
  "kernelspec": {
   "display_name": "Python 3",
   "language": "python",
   "name": "python3"
  },
  "language_info": {
   "codemirror_mode": {
    "name": "ipython",
    "version": 3
   },
   "file_extension": ".py",
   "mimetype": "text/x-python",
   "name": "python",
   "nbconvert_exporter": "python",
   "pygments_lexer": "ipython3",
   "version": "3.8.8"
  }
 },
 "nbformat": 4,
 "nbformat_minor": 1
}
